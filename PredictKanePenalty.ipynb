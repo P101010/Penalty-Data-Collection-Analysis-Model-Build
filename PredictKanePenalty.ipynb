{
 "cells": [
  {
   "cell_type": "code",
   "execution_count": 10,
   "metadata": {},
   "outputs": [],
   "source": [
    "import pandas as pd\n",
    "import seaborn as sns\n",
    "import itertools\n",
    "import joblib\n",
    "import matplotlib.pyplot as plt\n",
    "from sklearn.preprocessing import LabelEncoder\n",
    "from sklearn.metrics import confusion_matrix\n",
    "from sklearn.preprocessing import MinMaxScaler\n",
    "from imblearn.over_sampling import SMOTE\n",
    "from collections import Counter \n",
    "from sklearn.model_selection import train_test_split\n",
    "from sklearn.ensemble import RandomForestClassifier\n",
    "from sklearn.preprocessing import StandardScaler\n",
    "from sklearn.metrics import accuracy_score, classification_report, confusion_matrix\n"
   ]
  },
  {
   "cell_type": "markdown",
   "metadata": {},
   "source": [
    "Code to generate synthetic data of all possible scenarios of Harry kanes next penalty"
   ]
  },
  {
   "cell_type": "code",
   "execution_count": 11,
   "metadata": {},
   "outputs": [
    {
     "data": {
      "text/plain": [
       "(5598720, 21)"
      ]
     },
     "execution_count": 11,
     "metadata": {},
     "output_type": "execute_result"
    }
   ],
   "source": [
    "# Set parameters\n",
    "isCruciality = [0,1]\n",
    "IsFriendlyLeagueGame = [0,1]\n",
    "WasThePlayerSubstitutedOn = [0,1]\n",
    "PenaltiesTakenInGame = [0,1]\n",
    "\n",
    "# Previous walkin time for penalty\n",
    "PrevWalkIn = [507]\n",
    "\n",
    "\n",
    "CardsInGame = [0, 1, 2]\n",
    "PenaltyTime = range(1, 91)  # From 1 to 90\n",
    "GoalDifferenceDuringGoal = [-1, 0, 1]\n",
    "WalkDuration = range(300, 701, 50)  # From 350 to 800, step 25\n",
    "FanAdvantage = [0,1,2]\n",
    "DidPlayerWinPenalty = [0, 1]\n",
    "isPlayerBooked = [0, 1]\n",
    "GoalsInGame = [0, 1]\n",
    "AssistsInGame = [0, 1]\n",
    "\n",
    "# Create a function to determine if it's the first half based on PenaltyTime\n",
    "def isFirsthalf(penalty_time):\n",
    "    return 1 if penalty_time < 46 else 0\n",
    "\n",
    "# Create a function to determine if it's extra time based on PenaltyTime\n",
    "def isExtratime(penalty_time):\n",
    "    return 1 if penalty_time in [45, 90] else 0\n",
    "\n",
    "# Generate all possible combinations\n",
    "combinations = list(itertools.product(isCruciality, IsFriendlyLeagueGame, WasThePlayerSubstitutedOn,\n",
    "                                      PenaltiesTakenInGame, PrevWalkIn, CardsInGame, PenaltyTime,\n",
    "                                      GoalDifferenceDuringGoal, WalkDuration, FanAdvantage,\n",
    "                                      DidPlayerWinPenalty, isPlayerBooked, GoalsInGame, AssistsInGame))\n",
    "\n",
    "# Build the dataframe from the combinations and apply isFirsthalf and isExtratime rules\n",
    "df_combinations = pd.DataFrame(combinations, columns=[\n",
    "    'isCruciality', 'IsFriendlyLeagueGame', 'WasThePlayerSubstitutedOn', 'PenaltiesTakenInGame', 'PrevWalkIn',\n",
    "    'CardsInGame', 'PenaltyTime', 'GoalDifferenceDuringGoal', 'WalkDuration', 'FanAdvantage',\n",
    "    'DidPlayerWinPenalty', 'isPlayerBooked', 'GoalsInGame', 'AssistsInGame'])\n",
    "\n",
    "\n",
    "df_combinations['isFirsthalf'] = df_combinations['PenaltyTime'].apply(isFirsthalf)\n",
    "df_combinations['isExtratime'] = df_combinations['PenaltyTime'].apply(isExtratime)\n",
    "df_combinations['NoOfMinPlayedByThePlayer'] = df_combinations['PenaltyTime']\n",
    "\n",
    "# HK previous bucket class\n",
    "df_combinations['PrevBucket'] = 1\n",
    "\n",
    "#Current state of HK probabilities\n",
    "df_combinations['Prob_0'] = 0.166667\n",
    "df_combinations['Prob_1'] = 0.559524\n",
    "df_combinations['Prob_2'] = 0.273810\n",
    "\n",
    "#bias column\n",
    "df['bias'] = 1\n",
    "\n",
    "og = df_combinations.copy()\n",
    "df_combinations.shape"
   ]
  },
  {
   "cell_type": "markdown",
   "metadata": {},
   "source": [
    "Normalization"
   ]
  },
  {
   "cell_type": "code",
   "execution_count": 12,
   "metadata": {},
   "outputs": [],
   "source": [
    "# Load the saved scaler\n",
    "scaler = joblib.load('./models/min_max_scaler.pkl')"
   ]
  },
  {
   "cell_type": "code",
   "execution_count": 13,
   "metadata": {},
   "outputs": [],
   "source": [
    "# Columns to normalize\n",
    "cols_to_normalize = ['NoOfMinPlayedByThePlayer', 'PenaltyTime','WalkDuration','PrevWalkIn','Prob_2','Prob_1','Prob_0']\n",
    "\n",
    "# Apply scaling only to specific columns\n",
    "df_combinations[cols_to_normalize] = scaler.fit_transform(df_combinations[cols_to_normalize])"
   ]
  },
  {
   "cell_type": "code",
   "execution_count": 14,
   "metadata": {},
   "outputs": [],
   "source": [
    "desired_col_order = ['isCruciality', 'IsFriendlyLeagueGame', 'CardsInGame', 'PenaltyTime',\n",
    "                     'isFirsthalf', 'isExtratime', 'GoalDifferenceDuringGoal',\n",
    "                     'WalkDuration', 'FanAdvantage', 'WasThePlayerSubstitutedOn',\n",
    "                     'NoOfMinPlayedByThePlayer', 'DidPlayerWinPenalty', 'isPlayerBooked',\n",
    "                     'GoalsInGame', 'AssistsInGame', 'PenaltiesTakenInGame', 'PrevBucket',\n",
    "                     'PrevWalkIn', 'Prob_0', 'Prob_1', 'Prob_2', 'bias']\n",
    "\n",
    "# Reorder the columns in df_combinations\n",
    "df_combinations = df_combinations[desired_col_order]"
   ]
  },
  {
   "cell_type": "markdown",
   "metadata": {},
   "source": [
    "Load models and predict"
   ]
  },
  {
   "cell_type": "code",
   "execution_count": 15,
   "metadata": {},
   "outputs": [],
   "source": [
    "# Load the KNN with n=7\n",
    "model_7n = joblib.load('./models/model_7n.pkl')\n",
    "\n",
    "# Load the KNN with n=7\n",
    "model_8n = joblib.load('./models/model_8n.pkl')"
   ]
  },
  {
   "cell_type": "code",
   "execution_count": 18,
   "metadata": {},
   "outputs": [],
   "source": [
    "# Get class probabilities for all test instances\n",
    "probabilities = model_7n.predict_proba(df_combinations)\n",
    "\n",
    "# Create a DataFrame with actual values and probabilities\n",
    "results_df = og.copy()\n",
    "results_df['Class 0 Prob - 7n'] = [prob[0] for prob in probabilities]\n",
    "results_df['Class 1 Prob - 7n'] = [prob[1] for prob in probabilities]\n",
    "results_df['Class 2 Prob - 7n'] = [prob[2] for prob in probabilities]"
   ]
  },
  {
   "cell_type": "code",
   "execution_count": 19,
   "metadata": {},
   "outputs": [],
   "source": [
    "# Get class probabilities for all test instances\n",
    "probabilities = model_8n.predict_proba(df_combinations)\n",
    "\n",
    "# Create a DataFrame with actual values and probabilities\n",
    "results_df['Class 0 Prob - 8n'] = [prob[0] for prob in probabilities]\n",
    "results_df['Class 1 Prob - 8n'] = [prob[1] for prob in probabilities]\n",
    "results_df['Class 2 Prob - 8n'] = [prob[2] for prob in probabilities]"
   ]
  },
  {
   "cell_type": "markdown",
   "metadata": {},
   "source": [
    "Export data"
   ]
  },
  {
   "cell_type": "code",
   "execution_count": null,
   "metadata": {},
   "outputs": [],
   "source": [
    "results_df.to_csv('HarryKaneNextPenaltyPredictions.csv')"
   ]
  }
 ],
 "metadata": {
  "kernelspec": {
   "display_name": "base",
   "language": "python",
   "name": "python3"
  },
  "language_info": {
   "codemirror_mode": {
    "name": "ipython",
    "version": 3
   },
   "file_extension": ".py",
   "mimetype": "text/x-python",
   "name": "python",
   "nbconvert_exporter": "python",
   "pygments_lexer": "ipython3",
   "version": "3.11.7"
  }
 },
 "nbformat": 4,
 "nbformat_minor": 2
}
